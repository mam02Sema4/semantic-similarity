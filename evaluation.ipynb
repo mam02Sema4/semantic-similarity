{
 "cells": [
  {
   "cell_type": "markdown",
   "metadata": {},
   "source": [
    "# Comparison of Word2Vec, GloVe and FastText for measuring semantic similarity between pairs of sentences\n",
    "## Pablo Valdunciel \n"
   ]
  },
  {
   "cell_type": "markdown",
   "metadata": {},
   "source": [
    "## Models"
   ]
  },
  {
   "cell_type": "markdown",
   "metadata": {},
   "source": [
    "Use the *KeyedVectors* model from the [*gesim*](https://radimrehurek.com/gensim/index.html) library to load the pre-trained vectors/embeddings of the different models. "
   ]
  },
  {
   "cell_type": "code",
   "execution_count": 2,
   "metadata": {},
   "outputs": [],
   "source": [
    "from gensim.models import KeyedVectors "
   ]
  },
  {
   "cell_type": "markdown",
   "metadata": {},
   "source": [
    "Load the pre-trained vectors with Word2Vec, GloVe and FastText models. The pre-trained vectors of each model are:\n",
    "\n",
    "|  Model | Source | Vocabulary size | Vector dimension | Language |\n",
    "|:--------:|:-----------------------:|:-----------:|:-------------------------:|:------:|\n",
    "| **Word2Vec** |     [GoogleNews-vectors-negative300.bin.gz](https://drive.google.com/file/d/0B7XkCwpI5KDYNlNUTTlSS21pQmM/edit)                      |   3 million          |            300            | EN |\n",
    "|   **GloVe**  |[Common  Crawl  (840B  tokens,2.2M vocab, cased, 300d vectors)](http://nlp.stanford.edu/data/glove.840B.300d.zip)|     2,2 million        |            300            | EN |\n",
    "| **FastText** |  [rawl-300d-2M.vec.zip:  2  million  word  vectors  trained  on  Common  Crawl  (600Btokens)](https://dl.fbaipublicfiles.com/fasttext/vectors-english/crawl-300d-2M-subword.zip)                       |  2 million           |            300            | EN |\n",
    "\n",
    "In the case of GloVe vectors, the function [*glove2word2vec*](https://radimrehurek.com/gensim/scripts/glove2word2vec.html) from the *gensim* library has been used to convert the file to Word2Vec format."
   ]
  },
  {
   "cell_type": "code",
   "execution_count": 2,
   "metadata": {},
   "outputs": [],
   "source": [
    "PATH_WORD2VEC = './data/embedding/word2vec/GoogleNews-vectors-negative300.bin'\n",
    "PATH_GLOVE = './data/embedding/glove/glove.840B.300d.w2v.txt'\n",
    "PATH_FASTTEXT = './data/embedding/fasttext/crawl-300d-2M.vec'"
   ]
  },
  {
   "cell_type": "markdown",
   "metadata": {},
   "source": [
    "Load the three vector sets (this might take a few minutes to complete)."
   ]
  },
  {
   "cell_type": "code",
   "execution_count": 3,
   "metadata": {},
   "outputs": [],
   "source": [
    "word2vec = KeyedVectors.load_word2vec_format(PATH_WORD2VEC, binary=True)"
   ]
  },
  {
   "cell_type": "code",
   "execution_count": 4,
   "metadata": {},
   "outputs": [],
   "source": [
    "glove = KeyedVectors.load_word2vec_format(PATH_GLOVE, binary=False)"
   ]
  },
  {
   "cell_type": "code",
   "execution_count": 5,
   "metadata": {},
   "outputs": [],
   "source": [
    "fasttext = KeyedVectors.load_word2vec_format(PATH_FASTTEXT, binary=False)"
   ]
  },
  {
   "cell_type": "markdown",
   "metadata": {},
   "source": [
    "## Data"
   ]
  },
  {
   "cell_type": "markdown",
   "metadata": {},
   "source": [
    "Using the functions of the *load.py* module, we load the **test** sets of the STS12, STS13, STS14, STS15, STS16 and SICK-R tasks."
   ]
  },
  {
   "cell_type": "markdown",
   "metadata": {},
   "source": [
    "| Corpus | # of instances|                                        Source                                         |\n",
    "|:------:|:----------:|:------------------------------------------------------------------------------------------:|\n",
    "|  STS12 | 3108 |                      [SemEval 2012 - STS](https://www.cs.york.ac.uk/semeval-2012/task6/)                       |\n",
    "|  STS13 | 1500 |                               [SemEval 2013 - STS](http://ixa2.si.ehu.es/sts/)                                |\n",
    "|  STS14 | 3750 |               [SemEval 2014 - STS](http://alt.qcri.org/semeval2014/task10/index.php?id=sts-en)                |\n",
    "|  STS15 | 3000| [SemEval 2015 - STS](http://alt.qcri.org/semeval2015/task2/index.php?id=semantic-textual-similarity-for-english) |\n",
    "|  STS16 |  1186|                         [SemEval 2016 - STS](http://alt.qcri.org/semeval2016/task1/)                           |\n",
    "| SICK-R | 9927 |[SICK Relatedness](https://zenodo.org/record/2787612#.Xlf59XVKhhE) |"
   ]
  },
  {
   "cell_type": "markdown",
   "metadata": {},
   "source": [
    "All functions in the *load.py* module perform sentence preprocessing according to the parameters you specify. By default, sentence preprocessing is based on *tokenisation/segmentation* of sentences. In addition, there are the following possibilities:\n",
    "\n",
    "- `lowercase`: make all words lowercase.\n",
    "- `stop_words`: remove words that have almost no semantic meaning, such as determiners, preprositions, etc.\n",
    "- `punctuation`: remove punctuation symbols.\n",
    "- `only_ascci`: remove words that do not consist of ASCII characters.\n",
    "- `lemmatization`: replace words with their lexemes.\n",
    "\n",
    "Text preprocessing is implemented in the *preprocess* function in the *utils.py* module. The *preprocess* function makes use of the [spaCy](https://spacy.io/) library to perform the preprocessing."
   ]
  },
  {
   "cell_type": "code",
   "execution_count": 3,
   "metadata": {},
   "outputs": [],
   "source": [
    "from load import load_sts_12, load_sts_13, load_sts_14, load_sts_15, load_sts_16, load_SICK\n",
    "from load import load_frequencies"
   ]
  },
  {
   "cell_type": "markdown",
   "metadata": {},
   "source": [
    "In this case, only the *tokenisation/segmentation* of the sentences and a conversion to lowercase is performed to achieve uniformity."
   ]
  },
  {
   "cell_type": "code",
   "execution_count": 1,
   "metadata": {},
   "outputs": [],
   "source": [
    "PATH_STS = './data/datasets/STS'\n",
    "PATH_SICK = './data/datasets/SICK'\n",
    "PATH_FREQUENCIES = './data/frequencies.tsv'\n",
    "PREPROCESSING =  {'lowercase':  True, \n",
    "                  'stop_words': False, \n",
    "                  'punctuation': False, \n",
    "                  'only_ascii': False, \n",
    "                  'lemmatization': False\n",
    "                 }"
   ]
  },
  {
   "cell_type": "markdown",
   "metadata": {},
   "source": [
    "Load also the frequencies of the words in the corpus in order to be able to apply the SIF average."
   ]
  },
  {
   "cell_type": "code",
   "execution_count": 3,
   "metadata": {},
   "outputs": [],
   "source": [
    "freqs = load_frequencies(PATH_FREQUENCIES)"
   ]
  },
  {
   "cell_type": "code",
   "execution_count": 4,
   "metadata": {
    "scrolled": false
   },
   "outputs": [
    {
     "name": "stdout",
     "output_type": "stream",
     "text": [
      "\n",
      "\n",
      "***** TASK: STS12 *****\n",
      "\n",
      "Preprocessing -MSRpar-\n",
      "-MSRpar- preprocessed correctly\n",
      "Preprocessing -MSRvid-\n",
      "-MSRvid- preprocessed correctly\n",
      "Preprocessing -SMTeuroparl-\n",
      "-SMTeuroparl- preprocessed correctly\n",
      "Preprocessing -surprise.OnWN-\n",
      "-surprise.OnWN- preprocessed correctly\n",
      "Preprocessing -surprise.SMTnews-\n",
      "-surprise.SMTnews- preprocessed correctly\n",
      "\n",
      "\n",
      "***** TASK: STS13 (-SMT) ***\n",
      "\n",
      "Preprocessing -FNWN-\n",
      "-FNWN- preprocessed correctly\n",
      "Preprocessing -headlines-\n",
      "-headlines- preprocessed correctly\n",
      "Preprocessing -OnWN-\n",
      "-OnWN- preprocessed correctly\n",
      "\n",
      "\n",
      "***** TASK: STS14 *****\n",
      "\n",
      "Preprocessing -deft-forum-\n",
      "-deft-forum- preprocessed correctly\n",
      "Preprocessing -deft-news-\n",
      "-deft-news- preprocessed correctly\n",
      "Preprocessing -headlines-\n",
      "-headlines- preprocessed correctly\n",
      "Preprocessing -images-\n",
      "-images- preprocessed correctly\n",
      "Preprocessing -OnWN-\n",
      "-OnWN- preprocessed correctly\n",
      "Preprocessing -tweet-news-\n",
      "-tweet-news- preprocessed correctly\n",
      "\n",
      "\n",
      "***** TASK: STS15 *****\n",
      "\n",
      "Preprocessing -answers-forums-\n",
      "-answers-forums- preprocessed correctly\n",
      "Preprocessing -answers-students-\n",
      "-answers-students- preprocessed correctly\n",
      "Preprocessing -belief-\n",
      "-belief- preprocessed correctly\n",
      "Preprocessing -headlines-\n",
      "-headlines- preprocessed correctly\n",
      "Preprocessing -images-\n",
      "-images- preprocessed correctly\n",
      "\n",
      "\n",
      "***** TASK: STS16 *****\n",
      "\n",
      "Preprocessing -answer-answer-\n",
      "-answer-answer- preprocessed correctly\n",
      "Preprocessing -headlines-\n",
      "-headlines- preprocessed correctly\n",
      "Preprocessing -plagiarism-\n",
      "-plagiarism- preprocessed correctly\n",
      "Preprocessing -postediting-\n",
      "-postediting- preprocessed correctly\n",
      "Preprocessing -question-question-\n",
      "-question-question- preprocessed correctly\n",
      "\n",
      "\n",
      "***** Task: SICK-Relatedness*****\n",
      "\n"
     ]
    }
   ],
   "source": [
    "sts12 = load_sts_12(PATH_STS, PREPROCESSING, verbose=True)\n",
    "sts13 = load_sts_13(PATH_STS, PREPROCESSING, verbose=True)\n",
    "sts14 = load_sts_14(PATH_STS, PREPROCESSING, verbose=True)\n",
    "sts15 = load_sts_15(PATH_STS, PREPROCESSING, verbose=True)\n",
    "sts16 = load_sts_16(PATH_STS, PREPROCESSING, verbose=True)\n",
    "sick = load_SICK(PATH_SICK, PREPROCESSING, verbose=True)"
   ]
  },
  {
   "cell_type": "markdown",
   "metadata": {},
   "source": [
    "## Methods"
   ]
  },
  {
   "cell_type": "markdown",
   "metadata": {},
   "source": [
    "The methods for calculating the semantic similarity between two sentences are found in the *methods.py* module and are as follows:\n",
    "\n",
    "- `avg_cosine`: the vector of a sentence is obtained by averaging the vectors of the words in that sentence. The similarity between two vectors is calculated using cosine similarity.\n",
    "- `sif_cosine`: the vector of a sentence is obtained by taking a weighted average (*Smooth Inverse Frequency*, SIF) of the vectors of the words in that sentence. The similarity between two vectors is calculated using cosine similarity.\n",
    "- `wmd`: the similarity between two sentences is calculated as the inverse of the *Word Mover's Distance* between them. The *KeyedVectors* model of *gensim* incorporates the calculation of this distance ([see method](https://radimrehurek.com/gensim/models/keyedvectors.html#gensim.models.keyedvectors.FastTextKeyedVectors.wmdistance)). This distance is not bounded and will take the value *infinite* when none of the words of any of the two sentences is present in the model, so it has been bounded in the interval [0, 100]."
   ]
  },
  {
   "cell_type": "code",
   "execution_count": 4,
   "metadata": {},
   "outputs": [],
   "source": [
    "from functools import partial\n",
    "from methods import avg_cosine, wmd, sif_cosine"
   ]
  },
  {
   "cell_type": "code",
   "execution_count": 15,
   "metadata": {},
   "outputs": [],
   "source": [
    "METHODS = [\n",
    "    (\"W2V + AVG\", partial(avg_cosine, model=word2vec)),\n",
    "    (\"W2V + SIF\", partial(sif_cosine, model=word2vec, frequencies=freqs, a=0.001)),\n",
    "    (\"W2V + WMD\", partial(wmd, model=word2vec)),   \n",
    "    (\"GLOVE + AVG\", partial(avg_cosine, model=glove)),\n",
    "    (\"GLOVE + SIF\", partial(sif_cosine, model=glove, frequencies=freqs, a=0.001)),\n",
    "    (\"GLOVE + WMD\", partial(wmd, model=glove)),    \n",
    "    (\"FT + AVG\", partial(avg_cosine, model=fasttext)),\n",
    "    (\"FT + SIF\", partial(sif_cosine, model=fasttext, frequencies=freqs, a=0.001)),\n",
    "    (\"FT + WMD\", partial(wmd, model=fasttext))    \n",
    "]"
   ]
  },
  {
   "cell_type": "markdown",
   "metadata": {},
   "source": [
    "## Evaluation"
   ]
  },
  {
   "cell_type": "markdown",
   "metadata": {},
   "source": [
    "The `utils` module contains the `evaluate` function that calculates the Pearson and Spearman correlation coefficients between the *Gold Standard* scores of a task and the similarity measures provided by one or more methods."
   ]
  },
  {
   "cell_type": "code",
   "execution_count": 6,
   "metadata": {},
   "outputs": [],
   "source": [
    "from utils import evaluate\n",
    "from scipy.stats import rankdata, chi2\n",
    "from Orange.evaluation import compute_CD, graph_ranks\n",
    "import numpy as np\n",
    "import pprint\n",
    "import matplotlib.pyplot as plt"
   ]
  },
  {
   "cell_type": "code",
   "execution_count": 18,
   "metadata": {},
   "outputs": [],
   "source": [
    "N = 6  # Number of corpus\n",
    "K = 9  # Number of methods"
   ]
  },
  {
   "cell_type": "code",
   "execution_count": 22,
   "metadata": {},
   "outputs": [],
   "source": [
    "sts12_pearson, sts12_spearman = evaluate(sts12, METHODS)\n",
    "sts13_pearson, sts13_spearman = evaluate(sts13, METHODS)\n",
    "sts14_pearson, sts14_spearman = evaluate(sts14, METHODS)\n",
    "sts15_pearson, sts15_spearman = evaluate(sts15, METHODS)\n",
    "sts16_pearson, sts16_spearman = evaluate(sts16, METHODS)\n",
    "sick_pearson, sick_spearman = evaluate(sick, METHODS)"
   ]
  },
  {
   "cell_type": "markdown",
   "metadata": {},
   "source": [
    "### Pearson correlation coefficients\n",
    "\n",
    "In the following table we can observe the Pearson correlation coefficients obtained by each of the methods on each corpus."
   ]
  },
  {
   "cell_type": "code",
   "execution_count": 32,
   "metadata": {
    "scrolled": true
   },
   "outputs": [],
   "source": [
    "pearson_corr = np.array([ np.array(list(sts12_pearson.values())), \n",
    "                          np.array(list(sts13_pearson.values())),\n",
    "                          np.array(list(sts14_pearson.values())),\n",
    "                          np.array(list(sts15_pearson.values())),\n",
    "                          np.array(list(sts16_pearson.values())),\n",
    "                          np.array(list(sick_pearson.values()))\n",
    "                        ])"
   ]
  },
  {
   "cell_type": "markdown",
   "metadata": {},
   "source": [
    "| Corpus | W2V  +  AVG | W2V  +  SIF | W2V  +  WMD | GLOVE  +  AVG | GLOVE + SIF | GLOVE  +  WMD | FT  +  AVG | FT  +  SIF | FT  +  WMD |\n",
    "|:---------------:|:-----------:|:-----------:|:-----------:|:-------------:|:-----------:|:-------------:|:----------:|:----------:|:----------:|\n",
    "|      STS12      |    0,5577   |    0,5670   |    0,4735   |     0,5503    |    0,5887   |     0,5511    |   0,6006   |   0,6213   |   0,5535   |\n",
    "|      STS13      |    0,6402   |    0,7227   |    0,5212   |     0,5431    |    0,7004   |     0,4865    |   0,6396   |   0,7431   |   0,5043   |\n",
    "|      STS14      |    0,6868   |    0,7279   |    0,6122   |     0,5625    |    0,7069   |     0,5803    |   0,6664   |   0,7356   |   0,5921   |\n",
    "|      STS15      |    0,7049   |    0,7490   |    0,6839   |     0,6006    |    0,7319   |     0,6796    |   0,6999   |   0,7613   |   0,6888   |\n",
    "|      STS16      |    0,6391   |    0,7191   |    0,6408   |     0,5025    |    0,6847   |     0,6133    |   0,6326   |   0,7315   |   0,6312   |\n",
    "|      SICK-R     |    0,7012   |    0,7318   |    0,6125   |     0,6517    |    0,7215   |     0,5995    |   0,6980   |   0,7400   |   0,6045   |"
   ]
  },
  {
   "cell_type": "markdown",
   "metadata": {},
   "source": [
    "### Rankings \n"
   ]
  },
  {
   "cell_type": "markdown",
   "metadata": {},
   "source": [
    "Calculate the average rankin for each corpus."
   ]
  },
  {
   "cell_type": "code",
   "execution_count": 35,
   "metadata": {},
   "outputs": [],
   "source": [
    "ranks = np.array([np.array(rankdata((-1)*pearson_corr[task])) for task in range(pearson_corr.shape[0])])\n",
    "avg_ranks = np.average(ranks, axis=0)"
   ]
  },
  {
   "cell_type": "markdown",
   "metadata": {},
   "source": [
    "| Corpus \\ Método | W2V  +  AVG | W2V  +  SIF | W2V  +  WMD | GLOVE  +  AVG | GLOVE + SIF | GLOVE  +  WMD | FT  +  AVG | FT  +  SIF | FT  +  WMD |\n",
    "|:---------------:|:-----------:|:-----------:|:-----------:|:-------------:|:-----------:|:-------------:|:----------:|:----------:|:----------:|\n",
    "|      STS12      |      5      |      4      |      9      |       8       |      3      |       7       |      2     |      1     |      6     |\n",
    "|      STS13      |      4      |      2      |      7      |       6       |      3      |       9       |      5     |      1     |      8     |\n",
    "|      STS14      |      4      |      2      |      6      |       9       |      3      |       8       |      5     |      1     |      7     |\n",
    "|      STS15      |      4      |      2      |      7      |       9       |      3      |       8       |      5     |      1     |      6     |\n",
    "|      STS16      |      5      |      2      |      4      |       9       |      3      |       8       |      6     |      1     |      7     |\n",
    "|      SICK-R     |      4      |      2      |      7      |       6       |      3      |       9       |      5     |      1     |      8     |\n",
    "|       |       |      |      |          |        |           |       |         |       |\n",
    "|     Average    |     4,33    |     2,33    |     6,67    |      7,83     |     3,00    |      8,17     |    4,67    |    1,00    |    7,00    |"
   ]
  },
  {
   "cell_type": "markdown",
   "metadata": {},
   "source": [
    "### Friedman test"
   ]
  },
  {
   "cell_type": "markdown",
   "metadata": {},
   "source": [
    "Hypothesis test:\n",
    "\n",
    "- H<sub>0</sub>: all the metods are equivalent\n",
    "- H<sub>1</sub>: not all the methods are equivalent\n",
    "\n",
    "To solve this hypothesis test, the Friedman test on the average rankings is performed. Even without performing the test, these average rankings already provide a good comparison of the different methods.\n",
    "\n",
    "\n",
    "    \n",
    "| Position | Average ranking |    Method   |\n",
    "|:--------:|:----------------:|:-----------:|\n",
    "|     1    |         1        |   FT + SIF  |\n",
    "|     2    |       2,33       |  W2V + SIF  |\n",
    "|     3    |         3        | GLOVE + SIF |\n",
    "|     4    |       4,33       |  W2V + AVG  |\n",
    "|     5    |       4,67       |   FT + AVG  |\n",
    "|     6    |       6,67       |  W2V + WMD  |\n",
    "|     7    |         7        |   FT + WMD  |\n",
    "|     8    |       7,83       | GLOVE + AVG |\n",
    "|     9    |       8,17       | GLOVE + WMD |"
   ]
  },
  {
   "cell_type": "code",
   "execution_count": 1,
   "metadata": {},
   "outputs": [
    {
     "name": "stdout",
     "output_type": "stream",
     "text": [
      "p-value = 0.000028\n"
     ]
    }
   ],
   "source": [
    "sqr_avg_ranks = np.array(list(map(lambda r: r**2, avg_ranks)))\n",
    "friedman = (12*N) / (K*(K+1)) * (sum(sqr_avg_ranks) - (K*(K+1)**2/4))\n",
    "p_value = 1 - chi2.cdf(friedman, K-1)\n",
    "\n",
    "print(\"p-value = {:4f}\".format(p_value))"
   ]
  },
  {
   "cell_type": "markdown",
   "metadata": {},
   "source": [
    "The p-value obtained for the Friedman test is **0.000028**, so the null hypothesis, H<sub>0</sub>, on the equivalence of the methods is rejected at the usual confidence levels."
   ]
  },
  {
   "cell_type": "markdown",
   "metadata": {},
   "source": [
    "### Nemenyi test\n",
    "\n",
    "Having rejected the null hypothesis H<sub>0</sub> of method equivalence, the Nemenyi *post-hoc* test is performed to determine between which pairs of methods there are significant differences. Considering a confidence level of 95%, $\\alpha = 0.05$, and knowing that the number of methods is *K=9* and the number of data sets is *N=6*, the calculated critical Nemenyi distance is:"
   ]
  },
  {
   "cell_type": "code",
   "execution_count": 2,
   "metadata": {},
   "outputs": [
    {
     "name": "stdout",
     "output_type": "stream",
     "text": [
      "Critical Nemenyi distance (alpha = 0.05) =  4.904265743437033\n"
     ]
    }
   ],
   "source": [
    "cd_nemenyi = compute_CD(avg_ranks, N, alpha='0.05', test='nemenyi') \n",
    "print(\"Nemenyi critical distance (alpha = 0.05) = \", cd_nemenyi)"
   ]
  },
  {
   "cell_type": "markdown",
   "metadata": {},
   "source": [
    "We plot the significant differences based on the critical distance obtained."
   ]
  },
  {
   "cell_type": "code",
   "execution_count": 38,
   "metadata": {
    "scrolled": true
   },
   "outputs": [
    {
     "data": {
      "image/png": "[encoded data removed]",
      "text/plain": [
       "<Figure size 648x169.2 with 1 Axes>"
      ]
     },
     "metadata": {},
     "output_type": "display_data"
    }
   ],
   "source": [
    "graph_ranks(avg_ranks, list(sts12_pearson.keys()), cd=cd_nemenyi, width=9, textspace=1)\n",
    "plt.show()"
   ]
  },
  {
   "cell_type": "markdown",
   "metadata": {},
   "source": [
    "### Bonferroni-Dunn test\n",
    "\n",
    "Since the *FT + SIF* method has obtained the first position for all data sets, it seems reasonable to use the Bonferroni-Dunn test to compare this method with the others. The Bonferroni-Dunn test is also based on the calculation of a critical distance whose expression is very similar to the Nemenyi critical distance. Considering a confidence level of 95%, α= 0.05, and knowing that the number of methods is *K=9* and the number of data sets is *N=6*, the calculated Bonferroni-Dunn critical distance is:"
   ]
  },
  {
   "cell_type": "code",
   "execution_count": 3,
   "metadata": {},
   "outputs": [
    {
     "name": "stdout",
     "output_type": "stream",
     "text": [
      "Bonferroni-Dunn critical distance (alpha = 0.05) = 4.3070\n"
     ]
    }
   ],
   "source": [
    "cd_bonferroni_dunn = compute_CD(avg_ranks, N, alpha='0.05', test='bonferroni-dunn') \n",
    "print(\"Bonferroni-Dunn critical distance (alpha = 0.05) = \", cd_bonferroni_dunn)"
   ]
  },
  {
   "cell_type": "code",
   "execution_count": 40,
   "metadata": {
    "scrolled": false
   },
   "outputs": [
    {
     "data": {
      "image/png": "[encoded data removed]",
      "text/plain": [
       "<Figure size 648x162 with 1 Axes>"
      ]
     },
     "metadata": {},
     "output_type": "display_data"
    }
   ],
   "source": [
    "graph_ranks(avg_ranks, list(sts12_pearson.keys()), cd=cd_bonferroni_dunn, width=9, textspace=1)\n",
    "plt.show()"
   ]
  },
  {
   "cell_type": "markdown",
   "metadata": {},
   "source": [
    "\n",
    "The critical distance of the Bonferroni-Dunn test is **4.3070**. Selecting the *FT + SIF* method as the control method, it is found that this method is significantly better than *W2V + WMD*, *FT + WMD*, *GLOVE + WMD* and *GLOVE + AVG*."
   ]
  },
  {
   "cell_type": "markdown",
   "metadata": {},
   "source": [
    "## Conclusions"
   ]
  },
  {
   "cell_type": "markdown",
   "metadata": {},
   "source": [
    "1. Combining FastText's pre-trained word vectors by performing a SIF average is the most accurate method for measuring semantic similarity between pairs of documents.\n",
    "   \n",
    "\n",
    "2. Among the evaluated pre-trained vector sets, it can be observed that the GloVe set performs worse than the Word2Vec or FastText sets, regardless of the method used to calculate semantic similarity.\n",
    "\n",
    "    \n",
    "3. Although performing an unweighted average of the word vectors is a good starting point to obtain a vector of a sentence, applying a SIF (Smooth Inverse Frequency) weighting is a better alternative. \n",
    "   \n",
    "\n",
    "\n",
    "4. Among the possibilities to measure similarity, the inverse of the distance *Word Mover's Distance* as a measure gives the worst results."
   ]
  },
  {
   "cell_type": "markdown",
   "metadata": {},
   "source": []
  }
 ],
 "metadata": {
  "kernelspec": {
   "display_name": "Python 3",
   "language": "python",
   "name": "python3"
  },
  "language_info": {
   "codemirror_mode": {
    "name": "ipython",
    "version": 3
   },
   "file_extension": ".py",
   "mimetype": "text/x-python",
   "name": "python",
   "nbconvert_exporter": "python",
   "pygments_lexer": "ipython3",
   "version": "3.10.0"
  }
 },
 "nbformat": 4,
 "nbformat_minor": 4
}
