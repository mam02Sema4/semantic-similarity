{
 "cells": [
  {
   "cell_type": "code",
   "execution_count": 12,
   "metadata": {},
   "outputs": [],
   "source": [
    "from load import load_file\n",
    "import os\n",
    "import io"
   ]
  },
  {
   "cell_type": "code",
   "execution_count": 17,
   "metadata": {},
   "outputs": [],
   "source": [
    "def load_SICK(path, verbose=False):\n",
    "    if verbose:\n",
    "        print('***** Task: SICK-Relatedness*****\\n\\n')\n",
    "    sick_train = load_file_SICK(os.path.join(path, 'SICK_train.txt'))\n",
    "    sick_dev = load_file_SICK(os.path.join(path, 'SICK_trial.txt'))\n",
    "    sick_test = load_file_SICK(os.path.join(path, 'SICK_test_annotated.txt'))\n",
    "    \n",
    "    return sick_train\n",
    "\n",
    "def load_file_SICK(path):\n",
    "    skipFirstLine = True\n",
    "    sick_data = {'sent_1': [], 'sent_2': [], 'sim': []}\n",
    "    with io.open(path, 'r', encoding='utf-8') as f:\n",
    "        for line in f:\n",
    "            if skipFirstLine:\n",
    "                skipFirstLine = False\n",
    "            else:\n",
    "                text = line.strip().split('\\t')\n",
    "                sick_data['sent_1'].append(text[1].split())\n",
    "                sick_data['sent_2'].append(text[2].split())\n",
    "                sick_data['sim'].append(text[3])\n",
    "    sick_data['sim'] = [float(s) for s in sick_data['sim']]\n",
    "    return sick_data\n",
    "\n",
    "    "
   ]
  },
  {
   "cell_type": "code",
   "execution_count": 19,
   "metadata": {},
   "outputs": [],
   "source": [
    "a = load_SICK('./data/datasets/SICK/')"
   ]
  },
  {
   "cell_type": "code",
   "execution_count": null,
   "metadata": {},
   "outputs": [],
   "source": []
  }
 ],
 "metadata": {
  "kernelspec": {
   "display_name": "Python 3",
   "language": "python",
   "name": "python3"
  },
  "language_info": {
   "codemirror_mode": {
    "name": "ipython",
    "version": 3
   },
   "file_extension": ".py",
   "mimetype": "text/x-python",
   "name": "python",
   "nbconvert_exporter": "python",
   "pygments_lexer": "ipython3",
   "version": "3.6.9"
  }
 },
 "nbformat": 4,
 "nbformat_minor": 4
}
